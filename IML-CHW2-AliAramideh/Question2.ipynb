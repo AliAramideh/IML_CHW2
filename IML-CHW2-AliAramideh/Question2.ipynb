{
  "cells": [
    {
      "attachments": {},
      "cell_type": "markdown",
      "metadata": {
        "id": "un_07izr0mCO"
      },
      "source": [
        "<h1 align=\"center\">An Introduction to Machine Learning - 25737</h1>\n",
        "<h4 align=\"center\">Dr. Sajjad Amini</h4>\n",
        "<h4 align=\"center\">Sharif University of Technology, Spring 2023</h4>\n",
        "\n",
        "**Student Name**: Ali Aramideh\n",
        "\n",
        "**Student ID**: 98101736\n",
        "\n",
        "# Effect of Overfitting\n",
        "\n",
        "In this exercise, we want to examine the effect of **overfitting**. As you learned in class, using too many features in training can result in a model with very low loss on the training set but high loss on the validation and test set. For this purpose, we have prepared a dataset in the `q2-train.npy`, `q2-valid.npy`, and `q2-test.npy` files for you. We know that `y` is a polynomial function of `x` in this dataset, meaning that \n",
        "\n",
        "$$\n",
        "y = \\sum_{i=0}^{k}a_ix^i\n",
        "$$\n",
        "\n",
        "However, we do not know the exact value of `k`."
      ]
    },
    {
      "attachments": {},
      "cell_type": "markdown",
      "metadata": {
        "id": "rcSNUeqT158e"
      },
      "source": [
        "## Importing Libraries\n",
        "\n",
        "First, we import the necessary libraries for this assignment. Please note that you should only use these libraries and no other libraries are acceptable."
      ]
    },
    {
      "cell_type": "code",
      "execution_count": 1,
      "metadata": {
        "id": "UitW8b0J0jBa"
      },
      "outputs": [],
      "source": [
        "import numpy as np\n",
        "import matplotlib.pyplot as plt"
      ]
    },
    {
      "attachments": {},
      "cell_type": "markdown",
      "metadata": {
        "id": "Q1x7BaU22F4k"
      },
      "source": [
        "## Reading Data and Preprocessing\n",
        "\n",
        "In this part of the assignment, you should read data from the `.npy` files. The data in `q2-train.npy` file is your training set and should be stored in the `X_train` and `Y_train` variables. Similarly, the data in `q2-valid.npy` file is your validation set, and the data in `q2-test.npy` file is your test set, which should be stored in `X_val`, `Y_val`, `X_test`, and `Y_test` respectively. You can use the `np.load` function to read the `.npy` files."
      ]
    },
    {
      "cell_type": "code",
      "execution_count": 64,
      "metadata": {
        "id": "dDMeq10G2m0U"
      },
      "outputs": [],
      "source": [
        "X_train, Y_train, X_val, Y_val, X_test, Y_test = None, None, None, None, None, None\n",
        "\n",
        "### START CODE HERE ###\n",
        "\n",
        "# Read the datas from 'q2-train.npy' file:\n",
        "data = np.load('q2-train.npy')\n",
        "m, n = data.shape\n",
        "X_train = data[:, 0].reshape(m, 1)\n",
        "Y_train = data[:, 1].reshape(m, 1)\n",
        "\n",
        "# Read the datas from 'q2-valid.npy' file:\n",
        "data = np.load('q2-valid.npy')\n",
        "m, n = data.shape\n",
        "X_val = data[:, 0].reshape(m, 1)\n",
        "Y_val = data[:, 1].reshape(m, 1)\n",
        "\n",
        "# Read the datas from 'q2-test.npy' file:\n",
        "data = np.load('q2-test.npy')\n",
        "m, n = data.shape\n",
        "X_test = data[:, 0].reshape(m, 1)\n",
        "Y_test = data[:, 1].reshape(m, 1)\n",
        "\n",
        "### END CODE HERE ###"
      ]
    },
    {
      "attachments": {},
      "cell_type": "markdown",
      "metadata": {
        "id": "nyXpEfEa3Gw-"
      },
      "source": [
        "To find the best value of `k`, we want to change `k` from 1 to 12 and examine its effect on the validation set, and then choose the right value of `k`. For this purpose, we need to create a matrix with columns equal to $x^0$, $x^1$, $x^2$, ..., $x^k$ for every value of `k`. You can complete the following function to do this job. The function takes an $m \\times 1$ vector `X` containing values of input `x` and returns an $m \\times (k+1)$ matrix that has the properties mentioned above."
      ]
    },
    {
      "cell_type": "code",
      "execution_count": 47,
      "metadata": {
        "id": "DXw2tPO84Ksp"
      },
      "outputs": [],
      "source": [
        "def create_matrix(X, k):\n",
        "  '''\n",
        "  X: an m by 1 array \n",
        "  '''\n",
        "  new_X = None\n",
        "  ### START CODE HERE ###\n",
        "\n",
        "  # Initialize new_X for using append method:\n",
        "  new_X = []\n",
        "\n",
        "  # Create new_X matrix:\n",
        "  for i in range(k+1):\n",
        "    new_X.append(X**k)\n",
        "\n",
        "\n",
        "  ### END CODE HERE ###\n",
        "  return new_X"
      ]
    },
    {
      "attachments": {},
      "cell_type": "markdown",
      "metadata": {
        "id": "WCTuye7C5Aq3"
      },
      "source": [
        "## Validate Model\n",
        "\n",
        "Now, we want to train our model for every value of `k`. You can use any of the methods that we used in **Question 1** (gradient descent or direct calculation) for this purpose. The following function trains our model on the training set for a given value of `k`, and then returns the loss on the training set and validation set, as well as the weight vector `w`."
      ]
    },
    {
      "cell_type": "code",
      "execution_count": null,
      "metadata": {
        "id": "9lfWITgf7yQH"
      },
      "outputs": [],
      "source": [
        "# If you need any other function for training write it here\n",
        "# (like gradient descent or anything else)"
      ]
    },
    {
      "cell_type": "code",
      "execution_count": 65,
      "metadata": {
        "id": "JaIs631q508z"
      },
      "outputs": [],
      "source": [
        "def train(X_train, Y_train, X_val, Y_val, k):\n",
        "  '''\n",
        "  X_train: an m_train by 1 vector contains training points\n",
        "  Y_train: an m_train by 1 vector contains training values\n",
        "  X_val: an m_val by 1 vector contains validation points\n",
        "  Y_val: an m_val by 1 vector contains validation values\n",
        "  k: degree of polynomial\n",
        "  '''\n",
        "  w, loss_train, loss_val = None, None, None\n",
        "  ### START CODE HERE ###\n",
        "\n",
        "  alpha = 0.01\n",
        "  num_iters = 1000\n",
        "  \n",
        "  w = np.zeros(m).reshape(1, m)\n",
        "\n",
        "  for i in range(num_iters):\n",
        "    Y_pred_train = np.dot(X_train, w)\n",
        "    error_train = Y_pred_train - Y_train\n",
        "\n",
        "    w -= alpha * (np.dot(X_train.T, error_train) + k*w)\n",
        "\n",
        "    loss_train = np.mean(error_train **2) + k*np.sum(w **2)\n",
        "\n",
        "    Y_pred_val = np.dot(X_val, w)\n",
        "    error_val = Y_pred_val - Y_val\n",
        "    loss_val = np.mean(error_val **2) +k*np.sum(w **2)\n",
        "\n",
        "  \n",
        "\n",
        "  ### END CODE HERE ###\n",
        "  return w, loss_train, loss_val"
      ]
    },
    {
      "attachments": {},
      "cell_type": "markdown",
      "metadata": {
        "id": "eAsZfxCu6YEf"
      },
      "source": [
        "In the cell below, you can change the value of `k` between 1 and 12 and plot the loss on the training and validation set as a function of `k` in the same plot.\n",
        "\n",
        "**Question**: Discuss about the effect of $k$.\n",
        "\n",
        "**Answer**:When k is small, the model will be more sensitive to noise and outliers in the data. This is because the prediction for a new data point is based on only a few nearby neighbors, which may not be representative of the overall pattern in the data. As a result, the model may overfit to the training set and perform poorly on new, unseen data.\n",
        "\n",
        "On the other hand, when k is large, the model will be less sensitive to noise and outliers in the data. This is because the prediction for a new data point is based on more neighbors, which are likely to be more representative of the overall pattern in the data. However, if k is too large, then important patterns and trends in the data may be overlooked, leading to underfitting.\n",
        "\n",
        "Therefore, it is important to choose an appropriate value for k that balances between overfitting and underfitting. This can be done by using cross-validation techniques to evaluate different values of k and selecting one that provides good performance on both training and validation sets."
      ]
    },
    {
      "cell_type": "code",
      "execution_count": 88,
      "metadata": {
        "id": "knUTXtOv66Wx"
      },
      "outputs": [
        {
          "data": {
            "image/png": "[encoded data removed]",
            "text/plain": [
              "<Figure size 640x480 with 1 Axes>"
            ]
          },
          "metadata": {},
          "output_type": "display_data"
        }
      ],
      "source": [
        "### START CODE HERE ###\n",
        "\n",
        "k_set = [x for x in range(1, 13)]\n",
        "loss_train_set = []\n",
        "loss_val_set = []\n",
        "\n",
        "for k in k_set:\n",
        "    w, loss_train, loss_val = train(X_train, Y_train, X_val, Y_val, k)\n",
        "    loss_train_set.append(loss_train)\n",
        "    loss_val_set.append(loss_val)\n",
        "\n",
        "plt.plot(k_set, loss_train_set, color = 'blue')\n",
        "plt.plot(k_set, loss_val_set, color = 'red')\n",
        "plt.show()\n",
        "## In this graph, blue plot show the loss on the training and red show the loss on the validation ##\n",
        "\n",
        "### END CODE HERE ###"
      ]
    },
    {
      "attachments": {},
      "cell_type": "markdown",
      "metadata": {
        "id": "K0M1d2Ez7JLJ"
      },
      "source": [
        "## Evaluating Model\n",
        "\n",
        "In the cell below find the loss of your best model on the test set.\n",
        "\n",
        "**Question**: Why we need test set?\n",
        "\n",
        "**Answer**: We need a test set for evaluating a model that has been trained to ensure that it can generalize well to new, unseen data. Without a test set, we would have no way of knowing how well the model performs on data it has not seen before.\n",
        "\n",
        "\n",
        "The purpose of training a model is to learn patterns and relationships in the data that can be used to make predictions on new data. However, if the model is overfitting to the training data, it may perform poorly on new data because it has learned specific details about the training set that do not apply to other datasets.\n",
        "\n",
        "\n",
        "By using a separate test set, we can evaluate how well the model generalizes to new data and make adjustments as needed. This helps us ensure that our model is robust and reliable for real-world applications."
      ]
    },
    {
      "cell_type": "code",
      "execution_count": 91,
      "metadata": {
        "id": "Ex1P5H0A7emE"
      },
      "outputs": [],
      "source": [
        "### START CODE HERE ###\n",
        "\n",
        "### END CODE HERE ###"
      ]
    }
  ],
  "metadata": {
    "colab": {
      "provenance": []
    },
    "kernelspec": {
      "display_name": "Python 3",
      "name": "python3"
    },
    "language_info": {
      "codemirror_mode": {
        "name": "ipython",
        "version": 3
      },
      "file_extension": ".py",
      "mimetype": "text/x-python",
      "name": "python",
      "nbconvert_exporter": "python",
      "pygments_lexer": "ipython3",
      "version": "3.11.1"
    }
  },
  "nbformat": 4,
  "nbformat_minor": 0
}
